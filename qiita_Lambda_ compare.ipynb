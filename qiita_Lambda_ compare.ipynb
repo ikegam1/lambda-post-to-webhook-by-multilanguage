{
  "nbformat": 4,
  "nbformat_minor": 0,
  "metadata": {
    "colab": {
      "name": "qiita Lambda比較",
      "provenance": [],
      "collapsed_sections": []
    },
    "kernelspec": {
      "name": "python3",
      "display_name": "Python 3"
    },
    "language_info": {
      "name": "python"
    }
  },
  "cells": [
    {
      "cell_type": "code",
      "execution_count": null,
      "metadata": {
        "id": "c6eMwyLoNmS7"
      },
      "outputs": [],
      "source": [
        "import numpy as np\n",
        "import pandas as pd\n",
        "\n",
        "from google.colab import drive\n",
        "drive.mount('/content/drive')"
      ]
    },
    {
      "cell_type": "markdown",
      "source": [
        "データ読み込み"
      ],
      "metadata": {
        "id": "4uDokctGOrBG"
      }
    },
    {
      "cell_type": "code",
      "source": [
        "dataj= pd.read_csv('drive/My Drive/colab/java.csv')\n",
        "dataj.head()"
      ],
      "metadata": {
        "id": "BTLn84ANOiAh"
      },
      "execution_count": null,
      "outputs": []
    },
    {
      "cell_type": "code",
      "source": [
        "dataj = dataj[4:]\n",
        "dataj.head(1)"
      ],
      "metadata": {
        "id": "Qqx_-fUHRthL"
      },
      "execution_count": null,
      "outputs": []
    },
    {
      "cell_type": "code",
      "source": [
        "#@title\n",
        "data = {}\n",
        "data[\"g\"]= pd.read_csv('drive/My Drive/colab/go.csv')\n",
        "data[\"r\"]= pd.read_csv('drive/My Drive/colab/rust.csv')\n",
        "data[\"p\"]= pd.read_csv('drive/My Drive/colab/python.csv')\n",
        "data[\"n\"]= pd.read_csv('drive/My Drive/colab/node.csv')\n",
        "data[\"j\"]= pd.read_csv('drive/My Drive/colab/java.csv')\n",
        "for i, k in enumerate(data):\n",
        "  data[k] = data[k][4:]\n",
        "  data[k] = data[k].iloc[:,[2]]\n",
        "  data[k][data[k].columns[0]] = data[k][data[k].columns[0]].astype('float64')\n",
        "  print(data[k].head(1))\n"
      ],
      "metadata": {
        "cellView": "form",
        "id": "SDxlnygoR9oc"
      },
      "execution_count": null,
      "outputs": []
    },
    {
      "cell_type": "code",
      "source": [
        "for i, k in enumerate(data):\n",
        "  print(\"言語\", k)\n",
        "  print(\"最小値\", data[k].min(numeric_only=True))\n",
        "  print(\"中央値\", data[k].median())"
      ],
      "metadata": {
        "id": "J6uK6V05Uivx"
      },
      "execution_count": null,
      "outputs": []
    },
    {
      "cell_type": "code",
      "source": [
        ""
      ],
      "metadata": {
        "id": "IH8h2OJQYMwL"
      },
      "execution_count": null,
      "outputs": []
    }
  ]
}